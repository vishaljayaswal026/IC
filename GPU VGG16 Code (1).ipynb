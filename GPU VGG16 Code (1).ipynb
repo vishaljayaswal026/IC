{
 "cells": [
  {
   "cell_type": "code",
   "execution_count": 1,
   "id": "e9db54a2",
   "metadata": {},
   "outputs": [],
   "source": [
    "import os\n",
    "import pickle\n",
    "import numpy as np\n",
    "from tqdm.notebook import tqdm\n",
    "\n",
    "import tensorflow as tf\n",
    "from tensorflow.keras.applications.vgg16 import VGG16, preprocess_input\n",
    "from tensorflow.keras.preprocessing.image import load_img, img_to_array\n",
    "from tensorflow.keras.preprocessing.text import Tokenizer\n",
    "from tensorflow.keras.preprocessing.sequence import pad_sequences\n",
    "from tensorflow.keras.models import Model\n",
    "from tensorflow.keras.utils import to_categorical, plot_model\n",
    "from tensorflow.keras.layers import Input, Dense, LSTM, Embedding, Dropout, add"
   ]
  },
  {
   "cell_type": "code",
   "execution_count": 2,
   "id": "4fbad1cc",
   "metadata": {},
   "outputs": [
    {
     "name": "stdout",
     "output_type": "stream",
     "text": [
      "No GPU detected. Check CUDA and cuDNN installations if GPU is available.\n"
     ]
    }
   ],
   "source": [
    "# Enable GPU growth to prevent TensorFlow from allocating all memory at once\n",
    "gpus = tf.config.list_physical_devices('GPU')\n",
    "if gpus:\n",
    "    for gpu in gpus:\n",
    "        tf.config.experimental.set_memory_growth(gpu, True)\n",
    "    print(f\"GPUs detected and configured: {[gpu.name for gpu in gpus]}\")\n",
    "else:\n",
    "    print(\"No GPU detected. Check CUDA and cuDNN installations if GPU is available.\")"
   ]
  },
  {
   "cell_type": "code",
   "execution_count": 3,
   "id": "79e9c6a2",
   "metadata": {},
   "outputs": [],
   "source": [
    "BASE_DIR = 'D:/Dataset'\n",
    "Captions_Dir = 'D:/Dataset/Caption'\n",
    "WORKING_DIR = 'D:/Dataset/WORKING'"
   ]
  },
  {
   "cell_type": "code",
   "execution_count": 4,
   "id": "f2944be1",
   "metadata": {},
   "outputs": [
    {
     "name": "stdout",
     "output_type": "stream",
     "text": [
      "Model: \"model\"\n",
      "_________________________________________________________________\n",
      " Layer (type)                Output Shape              Param #   \n",
      "=================================================================\n",
      " input_1 (InputLayer)        [(None, 224, 224, 3)]     0         \n",
      "                                                                 \n",
      " block1_conv1 (Conv2D)       (None, 224, 224, 64)      1792      \n",
      "                                                                 \n",
      " block1_conv2 (Conv2D)       (None, 224, 224, 64)      36928     \n",
      "                                                                 \n",
      " block1_pool (MaxPooling2D)  (None, 112, 112, 64)      0         \n",
      "                                                                 \n",
      " block2_conv1 (Conv2D)       (None, 112, 112, 128)     73856     \n",
      "                                                                 \n",
      " block2_conv2 (Conv2D)       (None, 112, 112, 128)     147584    \n",
      "                                                                 \n",
      " block2_pool (MaxPooling2D)  (None, 56, 56, 128)       0         \n",
      "                                                                 \n",
      " block3_conv1 (Conv2D)       (None, 56, 56, 256)       295168    \n",
      "                                                                 \n",
      " block3_conv2 (Conv2D)       (None, 56, 56, 256)       590080    \n",
      "                                                                 \n",
      " block3_conv3 (Conv2D)       (None, 56, 56, 256)       590080    \n",
      "                                                                 \n",
      " block3_pool (MaxPooling2D)  (None, 28, 28, 256)       0         \n",
      "                                                                 \n",
      " block4_conv1 (Conv2D)       (None, 28, 28, 512)       1180160   \n",
      "                                                                 \n",
      " block4_conv2 (Conv2D)       (None, 28, 28, 512)       2359808   \n",
      "                                                                 \n",
      " block4_conv3 (Conv2D)       (None, 28, 28, 512)       2359808   \n",
      "                                                                 \n",
      " block4_pool (MaxPooling2D)  (None, 14, 14, 512)       0         \n",
      "                                                                 \n",
      " block5_conv1 (Conv2D)       (None, 14, 14, 512)       2359808   \n",
      "                                                                 \n",
      " block5_conv2 (Conv2D)       (None, 14, 14, 512)       2359808   \n",
      "                                                                 \n",
      " block5_conv3 (Conv2D)       (None, 14, 14, 512)       2359808   \n",
      "                                                                 \n",
      " block5_pool (MaxPooling2D)  (None, 7, 7, 512)         0         \n",
      "                                                                 \n",
      " flatten (Flatten)           (None, 25088)             0         \n",
      "                                                                 \n",
      " fc1 (Dense)                 (None, 4096)              102764544 \n",
      "                                                                 \n",
      " fc2 (Dense)                 (None, 4096)              16781312  \n",
      "                                                                 \n",
      "=================================================================\n",
      "Total params: 134,260,544\n",
      "Trainable params: 134,260,544\n",
      "Non-trainable params: 0\n",
      "_________________________________________________________________\n",
      "None\n"
     ]
    }
   ],
   "source": [
    "model = VGG16()\n",
    "model = Model(inputs=model.inputs, outputs=model.layers[-2].output)\n",
    "print(model.summary())"
   ]
  },
  {
   "cell_type": "code",
   "execution_count": 5,
   "id": "2d911215",
   "metadata": {},
   "outputs": [],
   "source": [
    "# Feature extraction using VGG16 with GPU support\n"
   ]
  },
  {
   "cell_type": "code",
   "execution_count": 6,
   "id": "28499998",
   "metadata": {},
   "outputs": [],
   "source": [
    "with open(os.path.join(WORKING_DIR, 'featuresVGG16.pkl'), 'rb') as f:\n",
    "    featuresVGG16 = pickle.load(f)"
   ]
  },
  {
   "cell_type": "code",
   "execution_count": 7,
   "id": "6e7e918a",
   "metadata": {},
   "outputs": [
    {
     "data": {
      "text/plain": [
       "(1, 4096)"
      ]
     },
     "execution_count": 7,
     "metadata": {},
     "output_type": "execute_result"
    }
   ],
   "source": [
    "featuresVGG16[\"1000268201\"].shape"
   ]
  },
  {
   "cell_type": "code",
   "execution_count": 8,
   "id": "74681777",
   "metadata": {},
   "outputs": [],
   "source": [
    "with open('D:/Dataset/Caption/New_Caption.txt', 'r', encoding='utf-8', errors='ignore') as f:\n",
    "    next(f)\n",
    "    captions_doc = f.read()"
   ]
  },
  {
   "cell_type": "code",
   "execution_count": 9,
   "id": "cb2d310a",
   "metadata": {},
   "outputs": [
    {
     "data": {
      "text/plain": [
       "'1000092795,झबरे बालों वाले दो युवा आँगन में घूमते समय अपने हाथों को देख रहे हैं।'"
      ]
     },
     "execution_count": 9,
     "metadata": {},
     "output_type": "execute_result"
    }
   ],
   "source": [
    "captions_doc.split('\\n')[0]"
   ]
  },
  {
   "cell_type": "code",
   "execution_count": 10,
   "id": "0a58ca1b",
   "metadata": {},
   "outputs": [
    {
     "data": {
      "application/vnd.jupyter.widget-view+json": {
       "model_id": "d8ceaeb74b0742e1a6467d0e11c571f6",
       "version_major": 2,
       "version_minor": 0
      },
      "text/plain": [
       "  0%|          | 0/158915 [00:00<?, ?it/s]"
      ]
     },
     "metadata": {},
     "output_type": "display_data"
    },
    {
     "name": "stdout",
     "output_type": "stream",
     "text": [
      "1000092795,झबरे बालों वाले दो युवा आँगन में घूमते समय अपने हाथों को देख रहे हैं।\n",
      "1000092795,दो युवा, श्वेत नर बाहर कई झाड़ियों के पास हैं।\n",
      "1000092795,हरी शर्ट पहने दो आदमी एक आँगन में खड़े हैं।\n",
      "1000092795,नीली शर्ट पहने एक आदमी बगीचे में खड़ा है।\n",
      "1000092795,दो दोस्त एक साथ समय बिताकर आनंद लेते हैं।\n",
      "10002456,सख्त टोपी पहने कई आदमी एक विशाल चरखी प्रणाली का संचालन कर रहे हैं।\n",
      "10002456,श्रमिक ऊपर से नीचे उपकरण के एक टुकड़े को देखते हैं।\n",
      "10002456,दो आदमी सख्त टोपी पहने हुए एक मशीन पर काम कर रहे हैं।\n",
      "10002456,एक ऊंची इमारत के शीर्ष पर चार आदमी।\n",
      "10002456,एक बड़े रिग पर तीन आदमी।\n",
      "1000268201,गुलाबी पोशाक में एक बच्चा प्रवेश मार्ग में सीढ़ियों पर चढ़ रहा है।\n"
     ]
    }
   ],
   "source": [
    "mapping = {}\n",
    "idx=0\n",
    "for line in tqdm(captions_doc.split('\\n')):\n",
    "    tokens = line.split(' ')\n",
    "    if len(line) < 2:\n",
    "        continue\n",
    "    image_id, caption = tokens[0], tokens[1:]\n",
    "    caption = \" \".join(caption)\n",
    "    if idx<=10:\n",
    "        print(image_id,caption)\n",
    "        idx+=1\n",
    "    if image_id not in mapping:\n",
    "        mapping[image_id] = []\n",
    "    mapping[image_id].append(caption)"
   ]
  },
  {
   "cell_type": "code",
   "execution_count": 11,
   "id": "68f3c237",
   "metadata": {},
   "outputs": [],
   "source": [
    "def clean(mapping):\n",
    "    idx=0;\n",
    "    for key, captions in mapping.items():\n",
    "        for i in range(len(captions)):\n",
    "            caption = captions[i]\n",
    "            caption = caption.lower()\n",
    "            caption = caption.replace('एक', \"\")\n",
    "            caption = caption.replace('।', \"\")\n",
    "            caption = caption.replace(',', \" \")\n",
    "            caption = caption.replace('\\s+', ' ')\n",
    "            caption = 'startseq ' + \" \".join([word for word in caption.split() if len(word)>1]) + ' endseq'\n",
    "            captions[i] = caption"
   ]
  },
  {
   "cell_type": "code",
   "execution_count": 12,
   "id": "35cdb44b",
   "metadata": {},
   "outputs": [
    {
     "name": "stdout",
     "output_type": "stream",
     "text": [
      "Captions for image ID 1000092795:\n",
      " - झबरे बालों वाले दो युवा आँगन में घूमते समय अपने हाथों को देख रहे हैं।\n",
      " - दो युवा, श्वेत नर बाहर कई झाड़ियों के पास हैं।\n",
      " - हरी शर्ट पहने दो आदमी एक आँगन में खड़े हैं।\n",
      " - नीली शर्ट पहने एक आदमी बगीचे में खड़ा है।\n",
      " - दो दोस्त एक साथ समय बिताकर आनंद लेते हैं।\n"
     ]
    }
   ],
   "source": [
    "# Path to your captions file\n",
    "caption_file_path = 'D:/Dataset/Caption/New_Caption.txt'\n",
    "\n",
    "# Initialize an empty dictionary to store the mapping\n",
    "mapping = {}\n",
    "\n",
    "# Read the file and create the mapping\n",
    "with open(caption_file_path, 'r', encoding='utf-8') as file:\n",
    "    for line in file:\n",
    "        # Split the line into image ID and caption\n",
    "        parts = line.strip().split(',', 1)  # Split only at the first comma\n",
    "        if len(parts) == 2:\n",
    "            image_id, caption = parts\n",
    "            # If the image_id is already in the mapping, append the caption to the list\n",
    "            if image_id in mapping:\n",
    "                mapping[image_id].append(caption)\n",
    "            else:\n",
    "                # If the image_id is not in the mapping, create a new list for the captions\n",
    "                mapping[image_id] = [caption]\n",
    "\n",
    "# Example: Access captions for a specific image ID\n",
    "image_id_to_check = '1000092795'\n",
    "if image_id_to_check in mapping:\n",
    "    print(f\"Captions for image ID {image_id_to_check}:\")\n",
    "    for caption in mapping[image_id_to_check]:\n",
    "        print(f\" - {caption}\")\n",
    "else:\n",
    "    print(f\"Image ID {image_id_to_check} not found in the mapping.\")\n",
    "\n"
   ]
  },
  {
   "cell_type": "code",
   "execution_count": 13,
   "id": "2f9c2a26",
   "metadata": {},
   "outputs": [
    {
     "data": {
      "text/plain": [
       "['गुलाबी पोशाक में एक बच्चा प्रवेश मार्ग में सीढ़ियों पर चढ़ रहा है।',\n",
       " 'गुलाबी पोशाक में एक छोटी लड़की लकड़ी के केबिन में जा रही है।',\n",
       " 'एक छोटी लड़की अपने खेल के घर की सीढ़ियाँ चढ़ रही है।',\n",
       " 'एक छोटी लड़की लकड़ी के खेल के घर में चढ़ रही है',\n",
       " 'एक लड़की लकड़ी की इमारत में जा रही है।']"
      ]
     },
     "execution_count": 13,
     "metadata": {},
     "output_type": "execute_result"
    }
   ],
   "source": [
    "mapping['1000268201']"
   ]
  },
  {
   "cell_type": "code",
   "execution_count": 14,
   "id": "e873592e",
   "metadata": {},
   "outputs": [],
   "source": [
    "clean(mapping)"
   ]
  },
  {
   "cell_type": "code",
   "execution_count": 15,
   "id": "c9f2184d",
   "metadata": {},
   "outputs": [
    {
     "data": {
      "text/plain": [
       "['startseq गुलाबी पोशाक में बच्चा प्रवेश मार्ग में सीढ़ियों पर चढ़ रहा है endseq',\n",
       " 'startseq गुलाबी पोशाक में छोटी लड़की लकड़ी के केबिन में जा रही है endseq',\n",
       " 'startseq छोटी लड़की अपने खेल के घर की सीढ़ियाँ चढ़ रही है endseq',\n",
       " 'startseq छोटी लड़की लकड़ी के खेल के घर में चढ़ रही है endseq',\n",
       " 'startseq लड़की लकड़ी की इमारत में जा रही है endseq']"
      ]
     },
     "execution_count": 15,
     "metadata": {},
     "output_type": "execute_result"
    }
   ],
   "source": [
    "mapping['1000268201']"
   ]
  },
  {
   "cell_type": "code",
   "execution_count": 16,
   "id": "5e36d2fd",
   "metadata": {},
   "outputs": [],
   "source": [
    "all_captions = []\n",
    "for key in mapping:\n",
    "    for caption in mapping[key]:\n",
    "        all_captions.append(caption)"
   ]
  },
  {
   "cell_type": "code",
   "execution_count": 17,
   "id": "441320f2",
   "metadata": {},
   "outputs": [
    {
     "data": {
      "text/plain": [
       "['startseq झबरे बालों वाले दो युवा आँगन में घूमते समय अपने हाथों को देख रहे हैं endseq',\n",
       " 'startseq दो युवा श्वेत नर बाहर कई झाड़ियों के पास हैं endseq',\n",
       " 'startseq हरी शर्ट पहने दो आदमी आँगन में खड़े हैं endseq',\n",
       " 'startseq नीली शर्ट पहने आदमी बगीचे में खड़ा है endseq',\n",
       " 'startseq दो दोस्त साथ समय बिताकर आनंद लेते हैं endseq']"
      ]
     },
     "execution_count": 17,
     "metadata": {},
     "output_type": "execute_result"
    }
   ],
   "source": [
    "all_captions[:5]"
   ]
  },
  {
   "cell_type": "code",
   "execution_count": 18,
   "id": "5ab5c989",
   "metadata": {},
   "outputs": [
    {
     "data": {
      "text/plain": [
       "158915"
      ]
     },
     "execution_count": 18,
     "metadata": {},
     "output_type": "execute_result"
    }
   ],
   "source": [
    "len(all_captions)"
   ]
  },
  {
   "cell_type": "code",
   "execution_count": 19,
   "id": "56780221",
   "metadata": {},
   "outputs": [],
   "source": [
    "# tokenize the text\n",
    "tokenizer = Tokenizer()\n",
    "tokenizer.fit_on_texts(all_captions)\n",
    "vocab_size = len(tokenizer.word_index) + 1"
   ]
  },
  {
   "cell_type": "code",
   "execution_count": 20,
   "id": "ca3c8672",
   "metadata": {},
   "outputs": [],
   "source": [
    "#Saving tokenizer as pickle file\n",
    "pickle.dump(tokenizer, open(os.path.join(WORKING_DIR, 'tokenizer.pkl'), 'wb'))"
   ]
  },
  {
   "cell_type": "code",
   "execution_count": 21,
   "id": "b573b67e",
   "metadata": {},
   "outputs": [],
   "source": [
    "#Loading tokenizer\n",
    "with open(os.path.join(WORKING_DIR, 'tokenizer.pkl'), 'rb') as f:\n",
    "    tokenizer = pickle.load(f)"
   ]
  },
  {
   "cell_type": "code",
   "execution_count": 22,
   "id": "9e7d3f9c",
   "metadata": {},
   "outputs": [
    {
     "data": {
      "text/plain": [
       "101"
      ]
     },
     "execution_count": 22,
     "metadata": {},
     "output_type": "execute_result"
    }
   ],
   "source": [
    "max_length = max(len(caption.split()) for caption in all_captions)\n",
    "max_length"
   ]
  },
  {
   "cell_type": "code",
   "execution_count": 23,
   "id": "ea11434f",
   "metadata": {},
   "outputs": [],
   "source": [
    "image_ids = list(mapping.keys())\n",
    "split = int(len(image_ids) * 0.90)\n",
    "train = image_ids[:split]\n",
    "test = image_ids[split:]"
   ]
  },
  {
   "cell_type": "code",
   "execution_count": 24,
   "id": "ef88196b",
   "metadata": {},
   "outputs": [],
   "source": [
    "def data_generator(data_keys, mapping, features, tokenizer, max_length, vocab_size, batch_size, epoch_limit=1):\n",
    "    X1, X2, y = list(), list(), list()\n",
    "    n = 0\n",
    "    epoch_count = 0  # Track epochs completed\n",
    "    while epoch_count < epoch_limit:\n",
    "        for key in data_keys:\n",
    "            n += 1\n",
    "            if key not in mapping:\n",
    "                continue\n",
    "            captions = mapping[key]\n",
    "            for caption in captions:\n",
    "                seq = tokenizer.texts_to_sequences([caption])[0]\n",
    "                for i in range(1, len(seq)):\n",
    "                    in_seq, out_seq = seq[:i], seq[i]\n",
    "                    in_seq = pad_sequences([in_seq], maxlen=max_length)[0]\n",
    "                    out_seq = to_categorical([out_seq], num_classes=vocab_size)[0]\n",
    "\n",
    "                    if key in features:\n",
    "                        X1.append(features[key][0])\n",
    "                        X2.append(in_seq)\n",
    "                        y.append(out_seq)\n",
    "            if n == batch_size:\n",
    "                X1, X2, y = np.array(X1), np.array(X2), np.array(y)\n",
    "                yield [X1, X2], y\n",
    "                X1, X2, y = list(), list(), list()\n",
    "                n = 0\n",
    "        epoch_count += 1  # Increment epoch count after one pass through `data_keys`\n",
    "\n",
    "\n"
   ]
  },
  {
   "cell_type": "code",
   "execution_count": 25,
   "id": "77aceff3",
   "metadata": {},
   "outputs": [
    {
     "name": "stdout",
     "output_type": "stream",
     "text": [
      "Requirement already satisfied: matplotlib in c:\\users\\asus\\appdata\\local\\programs\\python\\python310\\lib\\site-packages (3.5.3)\n",
      "Requirement already satisfied: cycler>=0.10 in c:\\users\\asus\\appdata\\local\\programs\\python\\python310\\lib\\site-packages (from matplotlib) (0.11.0)\n",
      "Requirement already satisfied: fonttools>=4.22.0 in c:\\users\\asus\\appdata\\local\\programs\\python\\python310\\lib\\site-packages (from matplotlib) (4.37.1)\n",
      "Requirement already satisfied: kiwisolver>=1.0.1 in c:\\users\\asus\\appdata\\local\\programs\\python\\python310\\lib\\site-packages (from matplotlib) (1.4.4)\n",
      "Requirement already satisfied: numpy>=1.17 in c:\\users\\asus\\appdata\\local\\programs\\python\\python310\\lib\\site-packages (from matplotlib) (1.24.4)\n",
      "Requirement already satisfied: packaging>=20.0 in c:\\users\\asus\\appdata\\local\\programs\\python\\python310\\lib\\site-packages (from matplotlib) (24.1)\n",
      "Requirement already satisfied: pillow>=6.2.0 in c:\\users\\asus\\appdata\\local\\programs\\python\\python310\\lib\\site-packages (from matplotlib) (10.4.0)\n",
      "Requirement already satisfied: pyparsing>=2.2.1 in c:\\users\\asus\\appdata\\local\\programs\\python\\python310\\lib\\site-packages (from matplotlib) (3.0.9)\n",
      "Requirement already satisfied: python-dateutil>=2.7 in c:\\users\\asus\\appdata\\local\\programs\\python\\python310\\lib\\site-packages (from matplotlib) (2.8.2)\n",
      "Requirement already satisfied: six>=1.5 in c:\\users\\asus\\appdata\\local\\programs\\python\\python310\\lib\\site-packages (from python-dateutil>=2.7->matplotlib) (1.16.0)\n"
     ]
    },
    {
     "name": "stderr",
     "output_type": "stream",
     "text": [
      "WARNING: Ignoring invalid distribution -rotobuf (c:\\users\\asus\\appdata\\local\\programs\\python\\python310\\lib\\site-packages)\n",
      "WARNING: Ignoring invalid distribution -rotobuf (c:\\users\\asus\\appdata\\local\\programs\\python\\python310\\lib\\site-packages)\n",
      "WARNING: Ignoring invalid distribution -rotobuf (c:\\users\\asus\\appdata\\local\\programs\\python\\python310\\lib\\site-packages)\n"
     ]
    }
   ],
   "source": [
    "!pip install matplotlib\n",
    "import matplotlib.pyplot as plt"
   ]
  },
  {
   "cell_type": "code",
   "execution_count": 26,
   "id": "d7d9e82a",
   "metadata": {},
   "outputs": [],
   "source": [
    "epochArr=[]\n",
    "for i in range(25):\n",
    "    epochArr.append(i);"
   ]
  },
  {
   "cell_type": "code",
   "execution_count": 27,
   "id": "074adfb9",
   "metadata": {},
   "outputs": [
    {
     "name": "stdout",
     "output_type": "stream",
     "text": [
      "You must install pydot (`pip install pydot`) and install graphviz (see instructions at https://graphviz.gitlab.io/download/) for plot_model to work.\n"
     ]
    }
   ],
   "source": [
    "inputs1 = Input(shape=(4096,))\n",
    "fe1 = Dropout(0.3)(inputs1)\n",
    "fe2 = Dense(256, activation='relu')(fe1)\n",
    "inputs2 = Input(shape=(max_length,))\n",
    "se1 = Embedding(vocab_size, 256, mask_zero=True)(inputs2)\n",
    "se2 = Dropout(0.3)(se1)\n",
    "se3 = LSTM(256)(se2)\n",
    "\n",
    "decoder1 = add([fe2, se3])\n",
    "decoder2 = Dense(256, activation='relu')(decoder1)\n",
    "outputs = Dense(vocab_size, activation='softmax')(decoder2)\n",
    "\n",
    "model = Model(inputs=[inputs1, inputs2], outputs=outputs)\n",
    "model.compile(loss='categorical_crossentropy', optimizer='adam')\n",
    "\n",
    "plot_model(model, show_shapes=True)"
   ]
  },
  {
   "cell_type": "code",
   "execution_count": 28,
   "id": "26a76419",
   "metadata": {},
   "outputs": [],
   "source": [
    "def makeGraph(x,y):\n",
    "    plt.plot(x, y)\n",
    "    plt.xlabel(\"Epochs\")\n",
    "    plt.ylabel(\"Loss\")"
   ]
  },
  {
   "cell_type": "code",
   "execution_count": 29,
   "id": "21f10447",
   "metadata": {},
   "outputs": [
    {
     "name": "stdout",
     "output_type": "stream",
     "text": [
      "Total features extracted: 31783\n"
     ]
    }
   ],
   "source": [
    "print(f\"Total features extracted: {len(featuresVGG16)}\")"
   ]
  },
  {
   "cell_type": "code",
   "execution_count": 30,
   "id": "273dded4",
   "metadata": {},
   "outputs": [
    {
     "name": "stdout",
     "output_type": "stream",
     "text": [
      "7151/7151 [==============================] - 1803s 251ms/step - loss: 3.7028\n",
      "7151/7151 [==============================] - 1816s 254ms/step - loss: 3.0691\n",
      "7151/7151 [==============================] - 1817s 254ms/step - loss: 2.8934\n",
      "7151/7151 [==============================] - 1818s 254ms/step - loss: 2.7950\n",
      "7151/7151 [==============================] - 1874s 262ms/step - loss: 2.7347\n",
      "7151/7151 [==============================] - 1851s 259ms/step - loss: 2.6924\n",
      "7151/7151 [==============================] - 1834s 256ms/step - loss: 2.6635\n",
      "7151/7151 [==============================] - 1834s 256ms/step - loss: 2.6405\n",
      "7151/7151 [==============================] - 1860s 260ms/step - loss: 2.6436\n",
      "7151/7151 [==============================] - 1860s 260ms/step - loss: 2.6115\n",
      "7151/7151 [==============================] - 1830s 256ms/step - loss: 2.6003\n",
      "7151/7151 [==============================] - 1860s 260ms/step - loss: 2.5955\n",
      "7151/7151 [==============================] - 1828s 256ms/step - loss: 2.5880\n",
      "7151/7151 [==============================] - 1844s 258ms/step - loss: 2.5836\n",
      "7151/7151 [==============================] - 1838s 257ms/step - loss: 2.5825\n",
      "7151/7151 [==============================] - 1873s 262ms/step - loss: 2.5784\n",
      "7151/7151 [==============================] - 1834s 257ms/step - loss: 2.5822\n",
      "7151/7151 [==============================] - 1861s 260ms/step - loss: 2.5754\n",
      "7151/7151 [==============================] - 1814s 254ms/step - loss: 2.5763\n",
      "7151/7151 [==============================] - 1864s 261ms/step - loss: 2.5747\n",
      "7151/7151 [==============================] - 1835s 257ms/step - loss: 2.5747\n",
      "7151/7151 [==============================] - 1862s 260ms/step - loss: 2.5750\n",
      "7151/7151 [==============================] - 1832s 256ms/step - loss: 2.5744\n",
      "7151/7151 [==============================] - 1857s 260ms/step - loss: 2.5750\n",
      "7151/7151 [==============================] - 1802s 252ms/step - loss: 2.5765\n"
     ]
    },
    {
     "data": {
      "image/png": "[encoded data removed]",
      "text/plain": [
       "<Figure size 640x480 with 1 Axes>"
      ]
     },
     "metadata": {},
     "output_type": "display_data"
    }
   ],
   "source": [
    "# train the model\n",
    "epochs=25\n",
    "batch_size = 4\n",
    "steps = len(train) // batch_size\n",
    "loss=[]\n",
    "for i in range(epochs):\n",
    "    \n",
    "    generator = data_generator(train, mapping, featuresVGG16, tokenizer, max_length, vocab_size, batch_size)\n",
    "    model.fit(generator, epochs=1, steps_per_epoch=steps, verbose=1)\n",
    "    loss.append(model.history.history['loss'][0])\n",
    "\n",
    "makeGraph(epochArr,loss)\n"
   ]
  },
  {
   "cell_type": "code",
   "execution_count": 31,
   "id": "6e8aae3a",
   "metadata": {},
   "outputs": [],
   "source": [
    "def idx_to_word(integer, tokenizer):\n",
    "    for word, index in tokenizer.word_index.items():\n",
    "        if index == integer:\n",
    "            return word\n",
    "    return None"
   ]
  },
  {
   "cell_type": "code",
   "execution_count": 32,
   "id": "9347d191",
   "metadata": {},
   "outputs": [],
   "source": [
    "# generate caption for an image\n",
    "def predict_caption(model, image, tokenizer, max_length):\n",
    "    in_text = 'startseq'\n",
    "    for i in range(max_length):\n",
    "        sequence = tokenizer.texts_to_sequences([in_text])[0]\n",
    "        sequence = pad_sequences([sequence], max_length)\n",
    "        yhat = model.predict([image, sequence], verbose=0)\n",
    "        yhat = np.argmax(yhat)\n",
    "        word = idx_to_word(yhat, tokenizer)\n",
    "        if word is None:\n",
    "            break\n",
    "        in_text += \" \" + word\n",
    "        if word == 'endseq':\n",
    "            break\n",
    "\n",
    "    return in_text"
   ]
  },
  {
   "cell_type": "code",
   "execution_count": 33,
   "id": "734cf558",
   "metadata": {},
   "outputs": [],
   "source": [
    "from nltk.translate.bleu_score import corpus_bleu"
   ]
  },
  {
   "cell_type": "code",
   "execution_count": 34,
   "id": "a9dd7aa6",
   "metadata": {},
   "outputs": [
    {
     "data": {
      "application/vnd.jupyter.widget-view+json": {
       "model_id": "70e6d78b2af14356a3de4f0a678a2869",
       "version_major": 2,
       "version_minor": 0
      },
      "text/plain": [
       "  0%|          | 0/3179 [00:00<?, ?it/s]"
      ]
     },
     "metadata": {},
     "output_type": "display_data"
    },
    {
     "name": "stdout",
     "output_type": "stream",
     "text": [
      "BLEU-1: 0.485954\n",
      "BLEU-2: 0.307205\n"
     ]
    }
   ],
   "source": [
    "actual, predicted = list(), list()\n",
    "for key in tqdm(test):\n",
    "    captions = mapping[key]\n",
    "    y_pred = predict_caption(model, featuresVGG16[key], tokenizer, max_length)\n",
    "    actual_captions = [caption.split() for caption in captions]\n",
    "    y_pred = y_pred.split()\n",
    "    actual.append(actual_captions)\n",
    "    predicted.append(y_pred)\n",
    "\n",
    "print(\"BLEU-1: %f\" % corpus_bleu(actual, predicted, weights=(1.0, 0, 0, 0)))\n",
    "print(\"BLEU-2: %f\" % corpus_bleu(actual, predicted, weights=(0.5, 0.5, 0, 0)))"
   ]
  },
  {
   "cell_type": "code",
   "execution_count": null,
   "id": "6108def6",
   "metadata": {},
   "outputs": [],
   "source": [
    "print(\"BLEU-1: %f\" % corpus_bleu(actual, predicted, weights=(1.0, 0, 0, 0)))\n",
    "print(\"BLEU-2: %f\" % corpus_bleu(actual, predicted, weights=(0.5, 0.5, 0, 0)))"
   ]
  }
 ],
 "metadata": {
  "kernelspec": {
   "display_name": "Python 3 (ipykernel)",
   "language": "python",
   "name": "python3"
  },
  "language_info": {
   "codemirror_mode": {
    "name": "ipython",
    "version": 3
   },
   "file_extension": ".py",
   "mimetype": "text/x-python",
   "name": "python",
   "nbconvert_exporter": "python",
   "pygments_lexer": "ipython3",
   "version": "3.10.11"
  }
 },
 "nbformat": 4,
 "nbformat_minor": 5
}
